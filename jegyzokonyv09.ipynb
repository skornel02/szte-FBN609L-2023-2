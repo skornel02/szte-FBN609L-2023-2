{
 "cells": [
  {
   "cell_type": "markdown",
   "metadata": {},
   "source": [
    "# Jegyzőkönyv 9 számolások"
   ]
  },
  {
   "cell_type": "code",
   "execution_count": 1,
   "metadata": {},
   "outputs": [
    {
     "name": "stderr",
     "output_type": "stream",
     "text": [
      "C:\\Users\\Kornel\\AppData\\Local\\Temp\\ipykernel_19048\\803247968.py:1: DeprecationWarning: \n",
      "Pyarrow will become a required dependency of pandas in the next major release of pandas (pandas 3.0),\n",
      "(to allow more performant data types, such as the Arrow string type, and better interoperability with other libraries)\n",
      "but was not found to be installed on your system.\n",
      "If this would cause problems for you,\n",
      "please provide us feedback at https://github.com/pandas-dev/pandas/issues/54466\n",
      "        \n",
      "  import pandas as pd\n"
     ]
    }
   ],
   "source": [
    "import pandas as pd\n",
    "import numpy as np\n",
    "import matplotlib.pyplot as plt\n",
    "import schemdraw\n",
    "from schemdraw import logic\n",
    "from schemdraw.parsing import logicparse\n",
    "from sympy import symbols, Not, Or, And\n",
    "from sympy.logic.boolalg import simplify_logic\n",
    "from tabulate import tabulate"
   ]
  },
  {
   "cell_type": "code",
   "execution_count": 2,
   "metadata": {},
   "outputs": [],
   "source": [
    "def logic_form_print(formula) -> None:\n",
    "    print(str(formula).upper().replace(\"|\", \"∪\").replace(\"&\", \"∩\").replace(\" \", \"\"))"
   ]
  },
  {
   "cell_type": "markdown",
   "metadata": {},
   "source": [
    "## 1. feladat: Bit shifterek\n",
    "\n",
    "A feladat megismerkedni a 74LS194es shift-register használatával."
   ]
  },
  {
   "cell_type": "markdown",
   "metadata": {},
   "source": [
    "### A\n",
    "#### Áramkör\n",
    "\n",
    "[![Áramkör](./jegyzokonyv09/feladat1a.svg)](https://falstad.com/circuit/circuitjs.html?ctz=CQAgDOB0YzCsICMZICYaoOyYMxgByoBsAnCZiHBAgCw6UCmAtIogFCL4kguZEh4aPRDSGDwIIWDYAlHllQCi+HjnRKViEIuQRUkBPoQQUcNgBl5mRThz8m42-xMgAZgEMANgGcGlcGwA7lY2dsJ8AmHSwbz8dipMChoBnNxqAmBCRGKZElJBwvxJLEVwzgWxyZU0MAExiBE1EOlNdQI2yu2StdFdTl2oZQE1CCyIOqKqE1kiQor4FayKxUvaqPn142tCTPh66227+zt72gSHp8WXNRd6N0w0KusmFY-a92-oKr0PT9Y8nyGP0B9nSg3KMTBQwcywOPzBBxK20OiCKiNRZ2+BQx4KQRXOPxxQyJEIGxNKpJIRX+n3+vVpik+BOxqD+OlZ2iBLKeQ0uXOCfP4l2ZwVWXyQW2ebTFN1RdxeoqI8rxejp2JIy3+iA1yN62thQlmuuxk1QByN4ukAHNtFqIkl9RJeg77bKItIAE5ICINIpu5wZaSWX1IU3myYQLQeHx+YxsIA)"
   ]
  },
  {
   "cell_type": "markdown",
   "metadata": {},
   "source": [
    "### B\n",
    "#### Áramkör\n",
    "\n",
    "[![Áramkör](./jegyzokonyv09/feladat1b.svg)](https://falstad.com/circuit/circuitjs.html?ctz=CQAgDOB0YzCsICMZICYaoOyYMxgByoBsAnCZiHBAgCw6UCmAtIogFCL4kguZEh4aPRDSGDwIIfjYAlHllQCi+HjnRKViEIuQRUkBPoQQUcNgBl5+FeKZqI4kyABmAQwA2AZwaVwbAO5WNmBCTKioYiF+gbz8OMrymIrxKmAcXALJUUSRQhB5AcL8CkXacPxpMYh8GsI1NDDRdfwNDoqtTWq1XR2VmQLx-ajlfg0ILIg6oqpTQkQiQorSVZPaScKr4QUrils8+HoRTUwH2kcnegTHpyUX2g3Xeg9MNCoRJoUvb8+v2ld9XzWikBwwqn1+oJmZTBMS6kLsuyOALh50QxSRnzRZ1CWPQqUKuJGuP+mOKRLJMKG5OhTRIxXWEPWfUZ7TeJMCkze605NL6PMhNxGfUF-Bu7KQmyurF2Dz5mweaKeHw5RCVSFVQKaiBIu25OuxWv1ewWBr502N5pJAHNNdV6Tp9crbTV3kgamkAE5u-h2+4QX0OGAWb1Ic1HE3+lweby+PlG9Z7Ep9RMJo50RTJtNdMIPdPHV15nMOQZpRBwYF7ezCfVVvQSMwxV04QZhI7NyksGvqWKZJ09qv9ktsIA)"
   ]
  },
  {
   "cell_type": "markdown",
   "metadata": {},
   "source": [
    "### C\n",
    "#### Áramkör\n",
    "\n",
    "[![Áramkör](./jegyzokonyv09/feladat1c.svg)](https://falstad.com/circuit/circuitjs.html?ctz=CQAgDOB0YzCsICMZICYaoOyYMxgByoBsAnCZiHBAgCw6UCmAtIogFCL4kguZEh4aPRDSGDwIIWDYAlHllQCi+HjnRKViEIuQRUkBPoQQUcNgBl5+FeKZqI4kyABmAQwA2AZwaVwbAO5WNmBCTKioYiF+gbz8OMrymIrxKtKc3GoCUUSRUpJIAcL8CkXacPzSMYh8GsI1NDDRdfwNDoqtTZkpAu2NlT0C8QOo5X4NCCyIOqKq00JEIkKK+IWTiiVr2hFNm+Gh+Hrb-UwHW-t6BDunG9cNV3p3TDQqESarz9qPH+ip7y9JPG+o2OQP4dnWwNWmRGYOhRyh622LGK8KqKNCiGKl36mLK-FxPx2BNGxIqhWhJOKkMCJGKAO+AP6DPaL2xhSm-x0qBe1KQ3LxIGuvKF-GubMCrHWl0lnzeEqmsqQRAecqVKrV2kZ7JI6wBiB1Zya+sRQkWhpxMz2SEtbIA5pqdDUSsaJP1nU67tUyQAnJA1L2KgMOGAWP34y3bM0QLRuLw+Yza3Umh1NK0lK10RRu7aZ+R3XPHV6STJhO44IZpOCKMLbezCA11vQSMwxIvlsFW9tEhvqWI9VV9uuDit-AT4UIfGi4nE1HDjsOSaejqf4+pLiVruntdfCBUbGEpwujfejUS-Vun745j5u6yL4p3kqVhxV4vJV8dJvUDhUe9vv+ftozY-sk87dHOYgVkB36BCukiNHBEFNIh84dEhTKNEhaEJP0OAfphr7oeShFgQkRGBOBpE2DhP4IHWB5dgemCYueY6QXEYHqEyuJ1me-bIR8vEfC6TLCQ2r4icROjicm3Hon+hJydolzcqyrGqcpLyPlqFGvp2URWrhBm1lEfFGUIfFdmZ5JDJZtmZNmFnQneBaFBpubuTkqYuV53Q0F5uEJP5YhBQ5bkuQS9I7iUcExacbr0qcHTPKqyVJQhYWBBmV4WbSqY5nluY0HlTKZMVLRlWFAAePBEHEmATvVFBLBAACqAD0bA1U8Wg4A1iQCNgIBYiAAAiXVIPgvX9fqdFDSN401YgcA2JgCDVKtKgtSAHVsEAA)"
   ]
  },
  {
   "cell_type": "markdown",
   "metadata": {},
   "source": [
    "## 2. feladat: Motor irányítás\n"
   ]
  },
  {
   "cell_type": "markdown",
   "metadata": {},
   "source": [
    "### Áramkör\n",
    "\n",
    "[![Áramkör](./jegyzokonyv09/feladat2.svg)](https://falstad.com/circuit/circuitjs.html?ctz=CQAgDOB0YzCsICMZICYaoOyYMxgByoBsAnCZiHBAgCw6UCmAtIogFCL4kguZEh4aPRDSGDwIIWDYAlHllQCi+HjnRKViEIuQRUkBPoQQUcNgHdhfDfNRjl4Czxoqc+IUxeTE-aQBkJGh8BRSDfCQAzAEMAGwBnBkpHS08VMMDg6QBCEAATBmiAVxiAFwkABRgAGkrEGrBUevoAHQgAY0K4koB7AFtmuJjugHMASzaQVrZ0FXwIESFWHVEJfKLS5OF+BS3tGhMnVO1MRSOZzaY549OrxGtpFKXr4URlqUOnhZBblYeeW+sAN8hy85yu5z+LG2+2+ehh0ji8hOAhw-CYqDsKPCWhKACdCgwPtYcKjbGJSZCdqiVOjMdTHHImOISWiWViJBAYcYOQZDszSejkWzpAAPEAUfb0IicsD8ISYgCSuIAhwA7ACebDFTCI-BwmAQnj1mDS2ggAFUAPRa5wIfUeHBafUUbYQAAibCAA)"
   ]
  }
 ],
 "metadata": {
  "kernelspec": {
   "display_name": ".venv",
   "language": "python",
   "name": "python3"
  },
  "language_info": {
   "codemirror_mode": {
    "name": "ipython",
    "version": 3
   },
   "file_extension": ".py",
   "mimetype": "text/x-python",
   "name": "python",
   "nbconvert_exporter": "python",
   "pygments_lexer": "ipython3",
   "version": "3.9.7"
  }
 },
 "nbformat": 4,
 "nbformat_minor": 2
}
