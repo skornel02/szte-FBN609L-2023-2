{
 "cells": [
  {
   "cell_type": "markdown",
   "metadata": {},
   "source": [
    "# Jegyzőkönyv 10 számolások"
   ]
  },
  {
   "cell_type": "markdown",
   "metadata": {},
   "source": [
    "## 1. feladat: Kétszínű LEDek\n",
    "\n",
    "A feladat megismerkedni egy kétszínű leddel és megidomítani.\n",
    "\n",
    "![LED](./jegyzokonyv10/led.png)"
   ]
  },
  {
   "cell_type": "markdown",
   "metadata": {},
   "source": [
    "### Áramkör\n",
    "\n",
    "[![Áramkör](./jegyzokonyv10/feladat1.svg)](https://falstad.com/circuit/circuitjs.html?ctz=CQAgjCAMB0l5A2ATAVhATgdA7LlBmBFFADgBYFsEEQVJaQz9aBTAWjDACgAlRkjDXqYoIJFGhokksTPowUvEPiT1UNJNnHrR4sGpnS08yVzDJa6PUgEor4e+IAmLAGYBDAK4AbAC5tvFidwURNIbnNxZDIHKKQYsBsxEBcPH39A4PoIMO4AdxBo8CSESAFEgUguAtLy+yKweyqasuLbewqoasLWxvE7PSazcn41LVokzXFsrgBzUbFxshI1Ekqu+eXspK3wMhj5YZjdkRQkkRmClCpFqNaprpaBB9qxMkOntp6BC+7X05uvz4Jxo+x+QlE7wY8gkimBK2UkGOy0RB0h9GMoVMACdvm96K8+qJ9HAzAhjuDBFT6GiYWgPN4AM4sR7gG46FE6Zr8MQoUF1abdMD7cClWKij4S8WqAWspjiQi2EWK1koEVE+Xi7ky8UqbJDMB0NkaXrsqFqUSKArChIdMVE7nmfV6MU6x1251iVqO9l8434roASTEayleqlJjQVvFTtuEbMRvDYBu+DO-otUYT9HD8Wzadzukt3QesZs5TF2vGpfGSHirIetZiObrVUNCoQz1a7zU3uSmYKqb0KY7Wu6g4DKsbcrgXoEmod3Xn9k1KqqQA)"
   ]
  },
  {
   "cell_type": "markdown",
   "metadata": {},
   "source": [
    "## 2. feladat: Reed relé\n",
    "\n",
    "Mágneses tér érzekelés\n"
   ]
  },
  {
   "cell_type": "markdown",
   "metadata": {},
   "source": [
    "### A\n",
    "\n",
    "#### Áramkör\n",
    "\n",
    "[![Áramkör](./jegyzokonyv10/feladat2a.svg)](https://falstad.com/circuit/circuitjs.html?ctz=CQAgjCAMB0l5A2ATAVhATgdA7LlBmBFFADgBYFsEEQVJaQz9aBTAWjDACgAlEBMuDKCwNMMKiSy9NPTnQUXAM78RE0fXGDNIAGYBDADZKWXAB61mo7OATpw2eoKSCeLFgBMAOkoBOLQ30ATy4wYhB8QnAkEkZRaNi5LgB3RnwkBMYyWLAYqBSsnLzhWJIk1JKQMojIQWrIUJQMpGwM3Nj8Wsz6DJkCzpE8yLE8htSBqp6UGnqC1BmpsVz81PnwZZa25bHbTQlNoW1+qI0Ik-Re47ELkBdNG4a+O-AbpEgch9uoBVufpB-5IpfA4FrdppNJGB4KFkCCIQIIRkPCwDABXQwAFzYhk84Ek8kg3AA5qp4YJMPiuEA)"
   ]
  },
  {
   "cell_type": "markdown",
   "metadata": {},
   "source": [
    "### B\n",
    "\n",
    "#### Áramkör\n",
    "\n",
    "[![Áramkör](./jegyzokonyv10/feladat2b.svg)](https://falstad.com/circuit/circuitjs.html?ctz=CQAgjCAMB0l5YCsA2ATIkBmAHK6B2NRXMAFkwE4LJlSRFJ6Rz6BTAWjDACgAlEVJGzhUwsMkZhRUGaUYZGi6Im4BnAUJHDMkOlOGSQAMwCGAG1WtuAD3AV84RBExhMjunVR1erVgBMAHVUAJ1YzEwBPbgB3LF0tLExkBMg+ZkxUZmFSbEYcmUyweEY8DFKZGBVggXxM2ixEOrpJeG4AczsmzpBciu4wCjpMJIScPWlGUwtWAX6GdK7MRpB6kpkVWPJC6S2exW5qga7UWpXm8FbULhrj0-EZCFy4cG4gA)\n",
    "\n",
    "Monostabil paraméterei:\n",
    "\n",
    "C = 220 qF\n",
    "\n",
    "R = 10k Ohm"
   ]
  },
  {
   "cell_type": "markdown",
   "metadata": {},
   "source": [
    "## 3. feladat: Fotókapu\n",
    "\n",
    "Csík számolás\n"
   ]
  },
  {
   "cell_type": "markdown",
   "metadata": {},
   "source": [
    "### Áramkör\n",
    "\n",
    "[![Áramkör](./jegyzokonyv10/feladat3.svg)](https://falstad.com/circuit/circuitjs.html?ctz=CQAgjCAMB0l5A2ATAVhATgdA7LlBmBFFADgBYFsEEQVJaQz9aBTAWjDACgAlEBMuDKCwNMMKiSy9NPTnQUXAM78RE0fXGDNIAGYBDADZKWXAB79mo7OATpw2eoKSCAYgHsALu4DW+gA4ArgA6SlwA7raaEkguQtpcos5xWiBI2EjxUpJykgbGLFBcZGD2+EjRgoQkWU5cADJpcS6aVGnSOXpGJgyQXEA)"
   ]
  }
 ],
 "metadata": {
  "kernelspec": {
   "display_name": ".venv",
   "language": "python",
   "name": "python3"
  },
  "language_info": {
   "codemirror_mode": {
    "name": "ipython",
    "version": 3
   },
   "file_extension": ".py",
   "mimetype": "text/x-python",
   "name": "python",
   "nbconvert_exporter": "python",
   "pygments_lexer": "ipython3",
   "version": "3.9.7"
  }
 },
 "nbformat": 4,
 "nbformat_minor": 2
}
