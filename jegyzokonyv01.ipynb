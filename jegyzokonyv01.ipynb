{
 "cells": [
  {
   "cell_type": "markdown",
   "id": "83b9c104-3903-44ac-910e-9d9c2050d652",
   "metadata": {},
   "source": [
    "# Jegyzőkönyv 1\n"
   ]
  },
  {
   "cell_type": "code",
   "execution_count": 7,
   "id": "853d1e96",
   "metadata": {},
   "outputs": [
    {
     "name": "stderr",
     "output_type": "stream",
     "text": [
      "C:\\Users\\Kornel\\AppData\\Local\\Temp\\ipykernel_9552\\2151744951.py:1: DeprecationWarning: \n",
      "Pyarrow will become a required dependency of pandas in the next major release of pandas (pandas 3.0),\n",
      "(to allow more performant data types, such as the Arrow string type, and better interoperability with other libraries)\n",
      "but was not found to be installed on your system.\n",
      "If this would cause problems for you,\n",
      "please provide us feedback at https://github.com/pandas-dev/pandas/issues/54466\n",
      "        \n",
      "  import pandas as pd\n"
     ]
    }
   ],
   "source": [
    "import pandas as pd\n",
    "import numpy as np\n",
    "import matplotlib.pyplot as plt"
   ]
  },
  {
   "cell_type": "markdown",
   "id": "ac38f720-f493-4d81-9299-5d755185c008",
   "metadata": {},
   "source": [
    "## 2. feladat"
   ]
  },
  {
   "cell_type": "markdown",
   "id": "dfdd6a26",
   "metadata": {},
   "source": []
  },
  {
   "cell_type": "code",
   "execution_count": 15,
   "id": "9476e58f-c4d4-4ba3-9ed8-942210d20686",
   "metadata": {},
   "outputs": [
    {
     "data": {
      "image/png": "[encoded data removed]",
      "text/plain": [
       "<Figure size 640x480 with 1 Axes>"
      ]
     },
     "metadata": {},
     "output_type": "display_data"
    }
   ],
   "source": [
    "v_be = pd.array([\n",
    "        4.922, #0\n",
    "        4.2, #1k\n",
    "        2.061, #10k\n",
    "        1.517, #20k\n",
    "        1.34, #30k\n",
    "        0.978, # 66k\n",
    "        0.855, # 120k\n",
    "        0.777, # 240k\n",
    "        0.725, # 500k\n",
    "        0.709, #620k\n",
    "        0.681, # 1m\n",
    "        0.645, # 2m\n",
    "        0.637, # 2.5m\n",
    "        -1.375 # 3m\n",
    "])\n",
    "\n",
    "v_ki = pd.array([\n",
    "        0.063, #0\n",
    "        0.065, #1k\n",
    "        0.094, #10k\n",
    "        0.1, #20k\n",
    "        0.112, #30k\n",
    "        0.145, #66k\n",
    "        0.174, #120k\n",
    "        0.224, #240k\n",
    "        1.553, #500k\n",
    "        2.188, #620k\n",
    "        3.212, #1m\n",
    "        4.081, #2m\n",
    "        4.283, #2.5m\n",
    "        4.955, #3m\n",
    "])\n",
    "\n",
    "# plot v_ki by v_be\n",
    "plt.plot(v_be, v_ki, 'ro-')\n",
    "plt.title('v_ki(v_be)')\n",
    "plt.xlabel('v_be (V)')\n",
    "plt.ylabel('v_ki (V)')\n",
    "plt.grid()\n",
    "plt.show()"
   ]
  },
  {
   "cell_type": "markdown",
   "id": "1bfff3a1",
   "metadata": {},
   "source": [
    "## 3. feladat"
   ]
  },
  {
   "cell_type": "code",
   "execution_count": null,
   "id": "5a43447a",
   "metadata": {},
   "outputs": [],
   "source": [
    "v_be = pd.array([\n",
    "    0.212,\n",
    "    4.851,\n",
    "])\n",
    "\n",
    "v_ki = pd.array([\n",
    "    4.185,\n",
    "    0.148,\n",
    "])\n",
    "\n",
    "r_be = pd.array([\n",
    "    1000,\n",
    "])\n",
    "\n",
    "i_be = pd.array([\n",
    "    \n",
    "]) / r_be"
   ]
  }
 ],
 "metadata": {
  "kernelspec": {
   "display_name": "Python 3 (ipykernel)",
   "language": "python",
   "name": "python3"
  },
  "language_info": {
   "codemirror_mode": {
    "name": "ipython",
    "version": 3
   },
   "file_extension": ".py",
   "mimetype": "text/x-python",
   "name": "python",
   "nbconvert_exporter": "python",
   "pygments_lexer": "ipython3",
   "version": "3.9.7"
  }
 },
 "nbformat": 4,
 "nbformat_minor": 5
}
