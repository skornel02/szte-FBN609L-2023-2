{
 "cells": [
  {
   "cell_type": "markdown",
   "metadata": {},
   "source": [
    "# Jegyzőkönyv 4 számolások"
   ]
  },
  {
   "cell_type": "markdown",
   "metadata": {},
   "source": [
    "## 1. feladat"
   ]
  },
  {
   "cell_type": "markdown",
   "metadata": {},
   "source": [
    "### Szimulátor\n",
    "\n",
    "[![Áramkör](./jegyzokonyv04/feladat1.svg)](https://falstad.com/circuit/circuitjs.html?ctz=CQAgLCAMB0l3BWEBmAHAJmgdgGzoRgIxjICcpkOECkISJdApgLSGEBQhOS+OIhpdCHRYhAoX0ic84VLV6zayZHyEATRgDMAhgFcANgBdm+xmv5RLMSBwDmilCocrUV9gCUU6WsQjJv-IRCtLRgtEghUNAIHoFiOD5B-OiukWF0VlExAE5x-Al53qn88FIAHiBy-Kh8hHDVpOD5IO4cAO6FkK5sQujoEFIdPcL9helSucP9ib2oxUGl7ADGhXN5ypJRpYT82H0UaAgIJGBYYKgDsDbs9sMb6zjFg8IIqqNTo89Ta30QKansDq-YQ-V4ggFA0b-EZ+ALPYH+eRgxFQG4oBBCNB+DHgLhuDrIHFY9GYnHPFG+FAXfhgAaAqkQSnE4HkgJMtkFCYMl58c5IzZ1ODsIA)\n",
    "\n",
    "### Számolás - a) feladat"
   ]
  },
  {
   "cell_type": "code",
   "execution_count": 39,
   "metadata": {},
   "outputs": [
    {
     "name": "stdout",
     "output_type": "stream",
     "text": [
      "Time: 1.7857142857142856, Resistance: 255102.04081632654, BPM: 33.6\n",
      "R1=10000, R2=120000, R=250000\n",
      "Time=1.7499999999999998, BPM=34.28571428571429\n"
     ]
    }
   ],
   "source": [
    "F = 0.56\n",
    "T = 1 / F\n",
    "C = 10 * 10 ** -6\n",
    "\n",
    "R = T / (0.7 * C)\n",
    "print(f\"Time: {T}, Resistance: {R}, BPM: {60 / T }\")\n",
    "\n",
    "R1 = 10000\n",
    "R2 = 120000\n",
    "R_c = R1 + 2*R2\n",
    "\n",
    "print(f\"R1={R1}, R2={R2}, R={R_c}\")\n",
    "T_c = 0.7 * R_c * C\n",
    "print(f\"Time={T_c}, BPM={60 / T_c}\")\n"
   ]
  },
  {
   "cell_type": "markdown",
   "metadata": {},
   "source": [
    "### Számolás - b) feladat\n",
    "\n",
    "[![Áramkör](./jegyzokonyv04/feladat1b.svg)](https://falstad.com/circuit/circuitjs.html?ctz=CQAgLCAMB0l3BWEBmAHAJmgdgGzoRgIxjICcpkOECkISJdApgLSGEBQhOS+OIhpdCHRYhAoX0ic84VLV6zayZHyEATRgDMAhgFcANgBdm+xmv5RLMSBwDmilCocrUV9gCUU6WsQjJv-IRCtLRgtEghUNAIHoFiOD5B-OiukWF0VlExAE5x-Al53qn88FIAHiBy-Kh8hHDVpOD5IO4cAO6FkK5sQujoEFIdPcL9helSucP9ib2oxUGl7ADGhXN5ypJRpYT82H0UaAgIJGBYYKgDsDbs9sMb6zjFg8IIqqNTo89Ta30QKansDq-YQ-V4ggFA0b-EZ+ALPYH+eRgxFQG4oBBCNB+DHgLhuDrIHFY9GYnHPFG+FAXfhgAaAqkQSnE4HkgJMtkFCYMl58c5IzZ1ODsIA)"
   ]
  },
  {
   "cell_type": "code",
   "execution_count": 4,
   "metadata": {},
   "outputs": [
    {
     "name": "stdout",
     "output_type": "stream",
     "text": [
      "Time: 0.0015151515151515152, Resistance: 21645.021645021643, BPM: 39600.0\n",
      "R1=1000, R2=10000, R=21000\n",
      "Time=0.00147, F=680.2721088435375, BPM=40816.32653061225\n"
     ]
    }
   ],
   "source": [
    "F = 660\n",
    "T = 1 / F\n",
    "C = 100 * 10 ** -9\n",
    "\n",
    "R = T / (0.7 * C)\n",
    "print(f\"Time: {T}, Resistance: {R}, BPM: {60 / T }\")\n",
    "\n",
    "R1 = 1000\n",
    "R2 = 10000\n",
    "R_c = R1 + 2*R2\n",
    "\n",
    "print(f\"R1={R1}, R2={R2}, R={R_c}\")\n",
    "T_c = 0.7 * R_c * C\n",
    "print(f\"Time={T_c}, F={1/T_c}, BPM={60 / T_c}\")\n"
   ]
  },
  {
   "cell_type": "markdown",
   "metadata": {},
   "source": [
    "## 2. feladat\n",
    "\n",
    "### Szimulátor\n",
    "\n",
    "[![Áramkör](./jegyzokonyv04/feladat2.svg)](https://falstad.com/circuit/circuitjs.html?ctz=CQAgLCAMB0l3BWEBmAHAJmgdgGzoRgIxjICcpkOECkISJdApgLSGEBQhOS+OIhpdCHRYhAoXzDRyM8jXhwOXIWFS1e4NSmR8hAE0YAzAIYBXADYAXZucZ7+URzEgcA5ptrIdHlDlRP2ACUUdFpiCGRQ-kIhWlowWiQ4qGgEdgAnaLEwCDYhUP8w0Ph2AA8QLUJUPkI4flRScH4+QI4AdyzhSH884XQISHYAY070VB6Y7T442Dh0AVlF2ULoVRwsHKxSGN5CFMV2d16vGsmdQqh2DvR+4XHhBF17wevbsf8biKiXvq-1R5CcUOKAQQjQEVB4C4AQ6yEh4JBYMhP0iYRyKFQuXRKMx-HRCM+l1hUXCgOaQMyYGhGlU-2m-BKAEkMRAadSATMkGkOr13qNbj9CXzec8rg9dLdxL9LiMpYS5Rz+LMFCqFIQWFhwNIlssyCsDkdBOL+EaRLEiSb8pKjVLBpkpaSHUbPMgSsS0bkbdixQ70b1SYMgA)\n",
    "\n",
    "### Számolás"
   ]
  },
  {
   "cell_type": "code",
   "execution_count": 40,
   "metadata": {},
   "outputs": [
    {
     "name": "stdout",
     "output_type": "stream",
     "text": [
      "Time: 30, Resistance: 123966.94214876032, BPM: 2.0\n",
      "R1=120000\n",
      "Time=29.04, BPM=2.066115702479339\n"
     ]
    }
   ],
   "source": [
    "T = 30\n",
    "C = 220 * 10 ** -6\n",
    "\n",
    "R = T / (1.1 * C)\n",
    "print(f\"Time: {T}, Resistance: {R}, BPM: {60 / T }\")\n",
    "\n",
    "R_c = 120000\n",
    "\n",
    "print(f\"R1={R_c}\")\n",
    "T_c = 1.1 * R_c * C\n",
    "print(f\"Time={T_c}, BPM={60 / T_c}\")\n"
   ]
  }
 ],
 "metadata": {
  "kernelspec": {
   "display_name": ".venv",
   "language": "python",
   "name": "python3"
  },
  "language_info": {
   "codemirror_mode": {
    "name": "ipython",
    "version": 3
   },
   "file_extension": ".py",
   "mimetype": "text/x-python",
   "name": "python",
   "nbconvert_exporter": "python",
   "pygments_lexer": "ipython3",
   "version": "3.12.0"
  }
 },
 "nbformat": 4,
 "nbformat_minor": 2
}
